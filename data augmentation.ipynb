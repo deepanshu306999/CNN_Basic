{
 "cells": [
  {
   "cell_type": "markdown",
   "metadata": {},
   "source": [
    "# Data Augmentation and Image Pipelines"
   ]
  },
  {
   "cell_type": "code",
   "execution_count": 21,
   "metadata": {},
   "outputs": [],
   "source": [
    "import numpy as np\n",
    "from keras.preprocessing import image\n",
    "import keras\n",
    "from keras.preprocessing.image import ImageDataGenerator\n",
    "import matplotlib.pyplot as plt"
   ]
  },
  {
   "cell_type": "code",
   "execution_count": 31,
   "metadata": {},
   "outputs": [],
   "source": [
    "train_image_gen = ImageDataGenerator(\n",
    "    rescale = 1/255.0,\n",
    "    rotation_range = 40,\n",
    "    width_shift_range = 0.2,\n",
    "    height_shift_range= 0.2,\n",
    "    shear_range = 0.1,\n",
    "    zoom_range= 0.3,\n",
    "    horizontal_flip = True,\n",
    ")\n",
    "\n",
    "test_gen = ImageDataGenerator(\n",
    "    rescale=1/255.0\n",
    ")"
   ]
  },
  {
   "cell_type": "code",
   "execution_count": 44,
   "metadata": {},
   "outputs": [
    {
     "name": "stdout",
     "output_type": "stream",
     "text": [
      "Found 580 images belonging to 4 classes.\n",
      "Found 228 images belonging to 4 classes.\n"
     ]
    }
   ],
   "source": [
    "train_generator = train_image_gen.flow_from_directory(\n",
    "    \"images/\",\n",
    "    target_size=(150,150),\n",
    "    batch_size=32,\n",
    "    class_mode = 'categorical'\n",
    ")\n",
    "\n",
    "val_generator = train_image_gen.flow_from_directory(\n",
    "    \"val_images/\",\n",
    "    target_size=(150,150),\n",
    "    batch_size=32,\n",
    "    class_mode = 'categorical'\n",
    ")"
   ]
  },
  {
   "cell_type": "code",
   "execution_count": 45,
   "metadata": {},
   "outputs": [],
   "source": [
    "#train_gen.class_indices\n",
    "\n"
   ]
  },
  {
   "cell_type": "code",
   "execution_count": 47,
   "metadata": {},
   "outputs": [],
   "source": [
    "#for (x,y) in train_gen:\n",
    "#    print(x.shape,y.shape)\n",
    "#    for i in range(10):\n",
    "#        plt.imshow(x[i])\n",
    "#        plt.show()\n",
    "    \n",
    "#break"
   ]
  },
  {
   "cell_type": "code",
   "execution_count": 40,
   "metadata": {},
   "outputs": [],
   "source": [
    "from keras.layers import *\n",
    "from keras.models import Sequential"
   ]
  },
  {
   "cell_type": "code",
   "execution_count": 41,
   "metadata": {},
   "outputs": [
    {
     "name": "stdout",
     "output_type": "stream",
     "text": [
      "Model: \"sequential\"\n",
      "_________________________________________________________________\n",
      "Layer (type)                 Output Shape              Param #   \n",
      "=================================================================\n",
      "conv2d (Conv2D)              (None, 148, 148, 32)      896       \n",
      "_________________________________________________________________\n",
      "max_pooling2d (MaxPooling2D) (None, 74, 74, 32)        0         \n",
      "_________________________________________________________________\n",
      "conv2d_1 (Conv2D)            (None, 72, 72, 64)        18496     \n",
      "_________________________________________________________________\n",
      "max_pooling2d_1 (MaxPooling2 (None, 36, 36, 64)        0         \n",
      "_________________________________________________________________\n",
      "conv2d_2 (Conv2D)            (None, 34, 34, 128)       73856     \n",
      "_________________________________________________________________\n",
      "max_pooling2d_2 (MaxPooling2 (None, 17, 17, 128)       0         \n",
      "_________________________________________________________________\n",
      "conv2d_3 (Conv2D)            (None, 15, 15, 128)       147584    \n",
      "_________________________________________________________________\n",
      "max_pooling2d_3 (MaxPooling2 (None, 7, 7, 128)         0         \n",
      "_________________________________________________________________\n",
      "flatten (Flatten)            (None, 6272)              0         \n",
      "_________________________________________________________________\n",
      "dense (Dense)                (None, 64)                401472    \n",
      "_________________________________________________________________\n",
      "dense_1 (Dense)              (None, 4)                 260       \n",
      "=================================================================\n",
      "Total params: 642,564\n",
      "Trainable params: 642,564\n",
      "Non-trainable params: 0\n",
      "_________________________________________________________________\n"
     ]
    }
   ],
   "source": [
    "#model\n",
    "model = Sequential()\n",
    "model.add(Conv2D(32,(3,3),activation='relu',input_shape=(150,150,3)))\n",
    "model.add(MaxPool2D((2,2)))\n",
    "model.add(Conv2D(64,(3,3),activation='relu',input_shape=(28,28,1)))\n",
    "model.add(MaxPool2D((2,2)))\n",
    "model.add(Conv2D(128,(3,3),activation='relu',input_shape=(28,28,1)))\n",
    "model.add(MaxPool2D((2,2)))\n",
    "model.add(Conv2D(128,(3,3),activation='relu',input_shape=(28,28,1)))\n",
    "model.add(MaxPool2D((2,2)))\n",
    "model.add(Flatten())\n",
    "model.add(Dense(64,activation='relu'))\n",
    "model.add(Dense(4,activation='softmax'))\n",
    "model.summary()"
   ]
  },
  {
   "cell_type": "code",
   "execution_count": 42,
   "metadata": {},
   "outputs": [],
   "source": [
    "from keras import optimizers\n",
    "from keras.preprocessing.image import ImageDataGenerator\n",
    "\n",
    "\n",
    "\n",
    "adam=optimizers.Adam(lr=1e-4)\n",
    "model.compile(loss='categorical_crossentropy', optimizer=adam,metrics=['acc'])"
   ]
  },
  {
   "cell_type": "code",
   "execution_count": 48,
   "metadata": {},
   "outputs": [
    {
     "name": "stdout",
     "output_type": "stream",
     "text": [
      "WARNING:tensorflow:From <ipython-input-48-9b3ff6ca9419>:1: Model.fit_generator (from tensorflow.python.keras.engine.training) is deprecated and will be removed in a future version.\n",
      "Instructions for updating:\n",
      "Please use Model.fit, which supports generators.\n",
      "Epoch 1/50\n",
      "7/7 [==============================] - 6s 835ms/step - loss: 1.3728 - acc: 0.3080 - val_loss: 1.3796 - val_acc: 0.2578\n",
      "Epoch 2/50\n",
      "7/7 [==============================] - 5s 771ms/step - loss: 1.3943 - acc: 0.2634 - val_loss: 1.3804 - val_acc: 0.3203\n",
      "Epoch 3/50\n",
      "7/7 [==============================] - 6s 824ms/step - loss: 1.3787 - acc: 0.2991 - val_loss: 1.3852 - val_acc: 0.2266\n",
      "Epoch 4/50\n",
      "7/7 [==============================] - 6s 837ms/step - loss: 1.3798 - acc: 0.2545 - val_loss: 1.3705 - val_acc: 0.3359\n",
      "Epoch 5/50\n",
      "7/7 [==============================] - 6s 882ms/step - loss: 1.3812 - acc: 0.2500 - val_loss: 1.3782 - val_acc: 0.2266\n",
      "Epoch 6/50\n",
      "7/7 [==============================] - 5s 778ms/step - loss: 1.3743 - acc: 0.2755 - val_loss: 1.3699 - val_acc: 0.2812\n",
      "Epoch 7/50\n",
      "7/7 [==============================] - 5s 738ms/step - loss: 1.3703 - acc: 0.2653 - val_loss: 1.3686 - val_acc: 0.3438\n",
      "Epoch 8/50\n",
      "7/7 [==============================] - 6s 831ms/step - loss: 1.3633 - acc: 0.3348 - val_loss: 1.3565 - val_acc: 0.3438\n",
      "Epoch 9/50\n",
      "7/7 [==============================] - 6s 832ms/step - loss: 1.3398 - acc: 0.3125 - val_loss: 1.3308 - val_acc: 0.3516\n",
      "Epoch 10/50\n",
      "7/7 [==============================] - 6s 837ms/step - loss: 1.3200 - acc: 0.4107 - val_loss: 1.3333 - val_acc: 0.3125\n",
      "Epoch 11/50\n",
      "7/7 [==============================] - 5s 758ms/step - loss: 1.3193 - acc: 0.4082 - val_loss: 1.2969 - val_acc: 0.4766\n",
      "Epoch 12/50\n",
      "7/7 [==============================] - 5s 754ms/step - loss: 1.2991 - acc: 0.4082 - val_loss: 1.3088 - val_acc: 0.3438\n",
      "Epoch 13/50\n",
      "7/7 [==============================] - 5s 762ms/step - loss: 1.2785 - acc: 0.4439 - val_loss: 1.2640 - val_acc: 0.4062\n",
      "Epoch 14/50\n",
      "7/7 [==============================] - 5s 755ms/step - loss: 1.2614 - acc: 0.4235 - val_loss: 1.2405 - val_acc: 0.5156\n",
      "Epoch 15/50\n",
      "7/7 [==============================] - 6s 831ms/step - loss: 1.2748 - acc: 0.4152 - val_loss: 1.2565 - val_acc: 0.4062\n",
      "Epoch 16/50\n",
      "7/7 [==============================] - 5s 759ms/step - loss: 1.2111 - acc: 0.4541 - val_loss: 1.2672 - val_acc: 0.4062\n",
      "Epoch 17/50\n",
      "7/7 [==============================] - 6s 832ms/step - loss: 1.1767 - acc: 0.4777 - val_loss: 1.2399 - val_acc: 0.4297\n",
      "Epoch 18/50\n",
      "7/7 [==============================] - 5s 746ms/step - loss: 1.1852 - acc: 0.5102 - val_loss: 1.2736 - val_acc: 0.4375\n",
      "Epoch 19/50\n",
      "7/7 [==============================] - 5s 754ms/step - loss: 1.2018 - acc: 0.5051 - val_loss: 1.2079 - val_acc: 0.4453\n",
      "Epoch 20/50\n",
      "7/7 [==============================] - 6s 841ms/step - loss: 1.1769 - acc: 0.4777 - val_loss: 1.2310 - val_acc: 0.4844\n",
      "Epoch 21/50\n",
      "7/7 [==============================] - 5s 771ms/step - loss: 1.1806 - acc: 0.4847 - val_loss: 1.1394 - val_acc: 0.5234\n",
      "Epoch 22/50\n",
      "7/7 [==============================] - 6s 827ms/step - loss: 1.1532 - acc: 0.5000 - val_loss: 1.2190 - val_acc: 0.4844\n",
      "Epoch 23/50\n",
      "7/7 [==============================] - 6s 828ms/step - loss: 1.1687 - acc: 0.5134 - val_loss: 1.1571 - val_acc: 0.4922\n",
      "Epoch 24/50\n",
      "7/7 [==============================] - 6s 829ms/step - loss: 1.1210 - acc: 0.5134 - val_loss: 1.1853 - val_acc: 0.4844\n",
      "Epoch 25/50\n",
      "7/7 [==============================] - 6s 828ms/step - loss: 1.1353 - acc: 0.5223 - val_loss: 1.1398 - val_acc: 0.5312\n",
      "Epoch 26/50\n",
      "7/7 [==============================] - 6s 837ms/step - loss: 1.0723 - acc: 0.5491 - val_loss: 1.2505 - val_acc: 0.4453\n",
      "Epoch 27/50\n",
      "7/7 [==============================] - 6s 844ms/step - loss: 1.1068 - acc: 0.4955 - val_loss: 1.1410 - val_acc: 0.5234\n",
      "Epoch 28/50\n",
      "7/7 [==============================] - 6s 834ms/step - loss: 1.0397 - acc: 0.5491 - val_loss: 1.2619 - val_acc: 0.4531\n",
      "Epoch 29/50\n",
      "7/7 [==============================] - 5s 768ms/step - loss: 1.1440 - acc: 0.4745 - val_loss: 1.2130 - val_acc: 0.4688\n",
      "Epoch 30/50\n",
      "7/7 [==============================] - 6s 836ms/step - loss: 1.0829 - acc: 0.5179 - val_loss: 1.1950 - val_acc: 0.5312\n",
      "Epoch 31/50\n",
      "7/7 [==============================] - 5s 748ms/step - loss: 1.1345 - acc: 0.5102 - val_loss: 1.1089 - val_acc: 0.5547\n",
      "Epoch 32/50\n",
      "7/7 [==============================] - 6s 831ms/step - loss: 1.0777 - acc: 0.5491 - val_loss: 1.1212 - val_acc: 0.5625\n",
      "Epoch 33/50\n",
      "7/7 [==============================] - 5s 744ms/step - loss: 1.0417 - acc: 0.5153 - val_loss: 1.1034 - val_acc: 0.5469\n",
      "Epoch 34/50\n",
      "7/7 [==============================] - 6s 837ms/step - loss: 0.9613 - acc: 0.6071 - val_loss: 1.1005 - val_acc: 0.4844\n",
      "Epoch 35/50\n",
      "7/7 [==============================] - 6s 841ms/step - loss: 1.0533 - acc: 0.5000 - val_loss: 1.0712 - val_acc: 0.5469\n",
      "Epoch 36/50\n",
      "7/7 [==============================] - 5s 771ms/step - loss: 1.2093 - acc: 0.4337 - val_loss: 1.0792 - val_acc: 0.5469\n",
      "Epoch 37/50\n",
      "7/7 [==============================] - 6s 829ms/step - loss: 1.0494 - acc: 0.5312 - val_loss: 1.1604 - val_acc: 0.4922\n",
      "Epoch 38/50\n",
      "7/7 [==============================] - 5s 755ms/step - loss: 1.0303 - acc: 0.5612 - val_loss: 1.1214 - val_acc: 0.5547\n",
      "Epoch 39/50\n",
      "7/7 [==============================] - 6s 861ms/step - loss: 1.0031 - acc: 0.5612 - val_loss: 1.1480 - val_acc: 0.5000\n",
      "Epoch 40/50\n",
      "7/7 [==============================] - 6s 846ms/step - loss: 1.0473 - acc: 0.5491 - val_loss: 1.0879 - val_acc: 0.5391\n",
      "Epoch 41/50\n",
      "7/7 [==============================] - 6s 837ms/step - loss: 1.0434 - acc: 0.5179 - val_loss: 1.1135 - val_acc: 0.5156\n",
      "Epoch 42/50\n",
      "7/7 [==============================] - 6s 894ms/step - loss: 1.0195 - acc: 0.5714 - val_loss: 1.1842 - val_acc: 0.4844\n",
      "Epoch 43/50\n",
      "7/7 [==============================] - 6s 788ms/step - loss: 1.0375 - acc: 0.5663 - val_loss: 1.1194 - val_acc: 0.5156\n",
      "Epoch 44/50\n",
      "7/7 [==============================] - 6s 841ms/step - loss: 0.9707 - acc: 0.5580 - val_loss: 1.1329 - val_acc: 0.5625\n",
      "Epoch 45/50\n",
      "7/7 [==============================] - 5s 758ms/step - loss: 1.0329 - acc: 0.5510 - val_loss: 1.1159 - val_acc: 0.5078\n",
      "Epoch 46/50\n",
      "7/7 [==============================] - 5s 760ms/step - loss: 0.9944 - acc: 0.5714 - val_loss: 1.1440 - val_acc: 0.5078\n",
      "Epoch 47/50\n",
      "7/7 [==============================] - 6s 841ms/step - loss: 0.9800 - acc: 0.5625 - val_loss: 1.0839 - val_acc: 0.5078\n",
      "Epoch 48/50\n",
      "7/7 [==============================] - 6s 835ms/step - loss: 1.0021 - acc: 0.5446 - val_loss: 1.0879 - val_acc: 0.5859\n",
      "Epoch 49/50\n",
      "7/7 [==============================] - 6s 848ms/step - loss: 1.0334 - acc: 0.5848 - val_loss: 1.1415 - val_acc: 0.5078\n",
      "Epoch 50/50\n",
      "7/7 [==============================] - 6s 836ms/step - loss: 1.0067 - acc: 0.5625 - val_loss: 1.0010 - val_acc: 0.5703\n"
     ]
    }
   ],
   "source": [
    "history = model.fit_generator(\n",
    "    train_generator,\n",
    "    epochs=50,\n",
    "    steps_per_epoch = 7,\n",
    "    validation_data= val_generator,\n",
    "    validation_steps = 4\n",
    ")"
   ]
  },
  {
   "cell_type": "code",
   "execution_count": 50,
   "metadata": {},
   "outputs": [],
   "source": [
    "acc = history.history['acc']\n",
    "val_acc = history.history['val_acc']\n",
    "loss = history.history['loss']\n",
    "val_loss= history.history['val_loss']\n"
   ]
  },
  {
   "cell_type": "code",
   "execution_count": 51,
   "metadata": {},
   "outputs": [
    {
     "data": {
      "image/png": "[encoded data removed]",
      "text/plain": [
       "<Figure size 432x288 with 1 Axes>"
      ]
     },
     "metadata": {
      "needs_background": "light"
     },
     "output_type": "display_data"
    }
   ],
   "source": [
    "plt.plot(acc,label=\"accuracy\")\n",
    "plt.plot(val_acc,label=\"val acc\")\n",
    "plt.plot(loss,label='loss')\n",
    "plt.plot(val_loss,label='val loss')\n",
    "plt.legend()\n",
    "plt.show()"
   ]
  },
  {
   "cell_type": "code",
   "execution_count": null,
   "metadata": {},
   "outputs": [],
   "source": []
  }
 ],
 "metadata": {
  "kernelspec": {
   "display_name": "Python 3",
   "language": "python",
   "name": "python3"
  },
  "language_info": {
   "codemirror_mode": {
    "name": "ipython",
    "version": 3
   },
   "file_extension": ".py",
   "mimetype": "text/x-python",
   "name": "python",
   "nbconvert_exporter": "python",
   "pygments_lexer": "ipython3",
   "version": "3.8.5"
  }
 },
 "nbformat": 4,
 "nbformat_minor": 4
}
